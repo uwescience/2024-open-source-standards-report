{
 "cells": [
  {
   "cell_type": "markdown",
   "metadata": {},
   "source": [
    "# \n",
    "\n",
    "# Acknowledgements\n",
    "\n",
    "This report was produced following a [workshop held at NSF headquarters in Alexandria, VA on April 8th-9th, 2024](https://uwescience.github.io/2024-open-source-standards-workshop/). We would like to thank the speakers and participants in this workshop for the time and thought that they put into the workshop. A list of workshop participants is provided as an appendixe.\n",
    "\n",
    "The workshop and this report were funded through [NSF grant #2334483](https://www.nsf.gov/awardsearch/showAward?AWD_ID=2334483&HistoricalAwards=false) from the NSF [Pathways to Enable Open-Source Ecosystems (POSE)](https://new.nsf.gov/funding/opportunities/pathways-enable-open-source-ecosystems-pose) program."
   ],
   "id": "563a478c-62b2-465e-9575-e3c10e3166f0"
  }
 ],
 "nbformat": 4,
 "nbformat_minor": 5,
 "metadata": {}
}
