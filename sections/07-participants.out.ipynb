{
 "cells": [
  {
   "cell_type": "markdown",
   "metadata": {},
   "source": [
    "#"
   ],
   "id": "ec366097-577e-4a8a-ac3e-61b1168bf13d"
  },
  {
   "cell_type": "raw",
   "metadata": {
    "raw_mimetype": "tex"
   },
   "source": [
    "\\newpage"
   ],
   "id": "1f205ac9-5c6d-4b1f-8716-10a7cc4f2f8e"
  },
  {
   "cell_type": "markdown",
   "metadata": {},
   "source": [
    "# Appendix: List of participants\n",
    "\n",
    "| Name                      | Affiliation                          |\n",
    "|---------------------------|--------------------------------------|\n",
    "| Alex D Wade               | Digital Science                      |\n",
    "| Alexander Szalay          | Johns Hopkins University             |\n",
    "| Andrew Connolly           | University of Washington             |\n",
    "| Anshul Tushar Tambay      | University of Washington             |\n",
    "| Ariel Rokem               | University of Washington             |\n",
    "| Carolina Lorena Berys     | University of California, San Diego  |\n",
    "| Christine Kirkpatrick     | San Diego Supercomputer Center       |\n",
    "| Fernando Seabra Chirigati | Nature Computational Science         |\n",
    "| Jessica Morgan            | NOAA                                 |\n",
    "| John Relph                | NOAA                                 |\n",
    "| Julia Ferraioli           | Open Source Stories                  |\n",
    "| Jurriaan Hein Spaaks      | formerly Netherlands eScience Center |\n",
    "| Justin (Jay) Hnilo        | Department of Energy                 |\n",
    "| Kalynn Elisabeth Kennon   | Infectious Diseases Data Observatory |\n",
    "| Kevin Christopher Booth   | Radiant Earth                        |\n",
    "| Kristofer E. Bouchard     | Lawrence Berkeley National Labs      |\n",
    "| Lea A. Shanley            | University of California, Berkeley   |\n",
    "| Michael Spannowsky        | Durham University                    |\n",
    "| Nicoleta C Cristea        | University of Washington             |\n",
    "| Nina Amla                 | NSF                                  |\n",
    "| Oliver Ruebel             | Lawrence Berkeley National Labs      |\n",
    "| Ray E. Habermann          | Metadata Game Changers               |\n",
    "| Raymond (Ray) Plante      | NIST                                 |\n",
    "| Robert Hanisch            | NIST                                 |\n",
    "| Saskia de Vries           | Allen Institute for AI               |\n",
    "| Steven Crawford           | NASA                                 |\n",
    "| Vani Mandava              | University of Washington             |\n",
    "| Yaroslav Halchenko        | Dartmouth University                 |\n",
    "| Ziheng Sun                | George Mason University              |"
   ],
   "id": "77ad6633-9631-4c37-b07b-18e219d45e40"
  }
 ],
 "nbformat": 4,
 "nbformat_minor": 5,
 "metadata": {}
}
