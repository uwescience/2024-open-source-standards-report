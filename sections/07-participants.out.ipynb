{
 "cells": [
  {
   "cell_type": "markdown",
   "metadata": {},
   "source": [
    "# \n",
    "\n",
    "# Appendix: List of participants\n",
    "\n",
    "| Name                      | Affiliation                          |\n",
    "|---------------------------|--------------------------------------|\n",
    "| Alex D Wade               | Digital Science                      |\n",
    "| Alexander Szalay          | Johns Hopkins University             |\n",
    "| Andrew Connolly           | University of Washington             |\n",
    "| Anshul Tushar Tambay      | University of Washington             |\n",
    "| Ariel Rokem               | University of Washington             |\n",
    "| Carolina Lorena Berys     | University of California, San Diego  |\n",
    "| Christine Kirkpatrick     | San Diego Supercomputer Center       |\n",
    "| Fernando Seabra Chirigati | Nature Computational Science         |\n",
    "| Jessica Morgan            | NOAA                                 |\n",
    "| John Relph                | NOAA                                 |\n",
    "| Julia Ferraioli           | Open Source Stories                  |\n",
    "| Jurriaan Hein Spaaks      | formerly Netherlands eScience Center |\n",
    "| Justin (Jay) Hnilo        | Department of Energy                 |\n",
    "| Kalynn Elisabeth Kennon   | Infectious Diseases Data Observatory |\n",
    "| Kevin Christopher Booth   | Radiant Earth                        |\n",
    "| Kristofer E. Bouchard     | Lawrence Berkeley National Labs      |\n",
    "| Lea A. Shanley            | University of California, Berkeley   |\n",
    "| Michael Spannowsky        | Durham University                    |\n",
    "| Nicoleta C Cristea        | University of Washington             |\n",
    "| Nina Amla                 | NSF                                  |\n",
    "| Oliver Ruebel             | Lawrence Berkeley National Labs      |\n",
    "| Ray E. Habermann          | Metadata Game Changers               |\n",
    "| Raymond (Ray) Plante      | NIST                                 |\n",
    "| Robert Hanisch            | NIST                                 |\n",
    "| Saskia de Vries           | Allen Institute for AI               |\n",
    "| Steven Crawford           | NASA                                 |\n",
    "| Vani Mandava              | University of Washington             |\n",
    "| Yaroslav Halchenko        | Dartmouth University                 |\n",
    "| Ziheng Sun                | George Mason University              |"
   ],
   "id": "bf3d0b0e-71dd-449b-a642-eaf600cf830d"
  }
 ],
 "nbformat": 4,
 "nbformat_minor": 5,
 "metadata": {}
}
